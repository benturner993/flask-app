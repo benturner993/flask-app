{
 "cells": [
  {
   "cell_type": "code",
   "execution_count": 1,
   "id": "cbec142c",
   "metadata": {},
   "outputs": [],
   "source": [
    "import pandas as pd"
   ]
  },
  {
   "cell_type": "code",
   "execution_count": 2,
   "id": "52975be3",
   "metadata": {},
   "outputs": [
    {
     "data": {
      "text/html": [
       "<div>\n",
       "<style scoped>\n",
       "    .dataframe tbody tr th:only-of-type {\n",
       "        vertical-align: middle;\n",
       "    }\n",
       "\n",
       "    .dataframe tbody tr th {\n",
       "        vertical-align: top;\n",
       "    }\n",
       "\n",
       "    .dataframe thead th {\n",
       "        text-align: right;\n",
       "    }\n",
       "</style>\n",
       "<table border=\"1\" class=\"dataframe\">\n",
       "  <thead>\n",
       "    <tr style=\"text-align: right;\">\n",
       "      <th></th>\n",
       "      <th>CustomerID</th>\n",
       "      <th>Name</th>\n",
       "      <th>Email</th>\n",
       "      <th>Phone</th>\n",
       "      <th>Lapse_Propensity</th>\n",
       "      <th>Customer_Lifetime_Value</th>\n",
       "      <th>Call_Agent</th>\n",
       "    </tr>\n",
       "  </thead>\n",
       "  <tbody>\n",
       "    <tr>\n",
       "      <th>0</th>\n",
       "      <td>1</td>\n",
       "      <td>John Doe</td>\n",
       "      <td>johndoe@example.com</td>\n",
       "      <td>123-456-7890</td>\n",
       "      <td>0.25</td>\n",
       "      <td>1500</td>\n",
       "      <td>Agent A</td>\n",
       "    </tr>\n",
       "    <tr>\n",
       "      <th>1</th>\n",
       "      <td>2</td>\n",
       "      <td>Jane Smith</td>\n",
       "      <td>janesmith@example.com</td>\n",
       "      <td>987-654-3210</td>\n",
       "      <td>0.35</td>\n",
       "      <td>1200</td>\n",
       "      <td>Agent B</td>\n",
       "    </tr>\n",
       "    <tr>\n",
       "      <th>2</th>\n",
       "      <td>3</td>\n",
       "      <td>Alice Johnson</td>\n",
       "      <td>alicejohnson@example.com</td>\n",
       "      <td>456-789-0123</td>\n",
       "      <td>0.15</td>\n",
       "      <td>800</td>\n",
       "      <td>Agent C</td>\n",
       "    </tr>\n",
       "  </tbody>\n",
       "</table>\n",
       "</div>"
      ],
      "text/plain": [
       "   CustomerID           Name                     Email         Phone  \\\n",
       "0           1       John Doe       johndoe@example.com  123-456-7890   \n",
       "1           2     Jane Smith     janesmith@example.com  987-654-3210   \n",
       "2           3  Alice Johnson  alicejohnson@example.com  456-789-0123   \n",
       "\n",
       "   Lapse_Propensity  Customer_Lifetime_Value Call_Agent  \n",
       "0              0.25                     1500    Agent A  \n",
       "1              0.35                     1200    Agent B  \n",
       "2              0.15                      800    Agent C  "
      ]
     },
     "execution_count": 2,
     "metadata": {},
     "output_type": "execute_result"
    }
   ],
   "source": [
    "df=pd.read_csv('proactive_input.csv')\n",
    "df.head(3)"
   ]
  },
  {
   "cell_type": "code",
   "execution_count": 3,
   "id": "8acbae99",
   "metadata": {},
   "outputs": [],
   "source": [
    "from faker import Faker\n",
    "import random\n",
    "import pandas as pd\n",
    "\n",
    "# Initialize Faker\n",
    "fake = Faker()\n",
    "\n",
    "def generate_customer():\n",
    "    name = fake.name()\n",
    "    email = fake.email()\n",
    "    return {\n",
    "        'registration_id': random.randint(1, 50),\n",
    "        'name': name,\n",
    "        'email': email,\n",
    "        'age': random.randint(18, 70),\n",
    "        'tenure': random.randint(1, 20),\n",
    "        'family_status': random.choice(['Single', 'Couple', 'Single parent family', 'Family', 'Family with Multiple Children']),\n",
    "        'premium': random.uniform(1000, 10000),\n",
    "        '1_month_free_propensity': random.random(),\n",
    "        '2_month_free_propensity': random.random(),\n",
    "        '3_month_free_propensity': random.random(),\n",
    "        'lifetime_value': random.uniform(-5000, 50000)\n",
    "    }\n",
    "\n",
    "# Generate 5 random customers\n",
    "customer_data = [generate_customer() for _ in range(50)]\n",
    "\n",
    "# Convert the list of dictionaries to a DataFrame\n",
    "df_customers = pd.DataFrame(customer_data)"
   ]
  },
  {
   "cell_type": "code",
   "execution_count": 4,
   "id": "f74bcaa2",
   "metadata": {},
   "outputs": [],
   "source": [
    "df_customers.to_csv('proactive_input_2.csv', index=False)"
   ]
  }
 ],
 "metadata": {
  "kernelspec": {
   "display_name": "Python 3",
   "language": "python",
   "name": "python3"
  },
  "language_info": {
   "codemirror_mode": {
    "name": "ipython",
    "version": 3
   },
   "file_extension": ".py",
   "mimetype": "text/x-python",
   "name": "python",
   "nbconvert_exporter": "python",
   "pygments_lexer": "ipython3",
   "version": "3.8.8"
  }
 },
 "nbformat": 4,
 "nbformat_minor": 5
}
